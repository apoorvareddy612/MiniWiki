{
 "cells": [
  {
   "cell_type": "code",
   "execution_count": 46,
   "id": "ae7632a5",
   "metadata": {},
   "outputs": [],
   "source": [
    "from sumy.parsers.plaintext import PlaintextParser\n",
    "from sumy.nlp.tokenizers import Tokenizer\n",
    "from sumy.summarizers.lex_rank import LexRankSummarizer\n",
    "from sumy.summarizers.luhn import LuhnSummarizer\n",
    "from sumy.summarizers import AbstractSummarizer\n",
    "from sumy.summarizers.kl import KLSummarizer\n",
    "from sumy.summarizers.lsa import LsaSummarizer\n",
    "from transformers import pipeline,T5ForConditionalGeneration, T5Tokenizer\n",
    "from summarizer.sbert import SBertSummarizer\n",
    "from summarizer import Summarizer\n",
    "from nltk.corpus import stopwords \n",
    "import wikipedia\n",
    "import en_core_web_sm"
   ]
  },
  {
   "cell_type": "code",
   "execution_count": 50,
   "id": "fa7469cf",
   "metadata": {},
   "outputs": [
    {
     "name": "stdout",
     "output_type": "stream",
     "text": [
      "Enter the text you are searching for in MiniWikiMusic\n",
      "Enter number of sentences you want: 4\n"
     ]
    }
   ],
   "source": [
    "userInput = input(\"Enter the text you are searching for in MiniWiki : \")\n",
    "userNumber = int(input(\"Enter number of sentences you want : \"))\n",
    "try:\n",
    "    wikisearch = wikipedia.page(\"m\"+userInput)\n",
    "except wikipedia.exceptions.DisambiguationError as e:\n",
    "    print(\"Error: {0}\".format(e))\n",
    "\n",
    "wikicontent = wikisearch.content[:2500]\n",
    "parser=PlaintextParser.from_string(wikicontent,Tokenizer(\"english\"))"
   ]
  },
  {
   "cell_type": "code",
   "execution_count": 51,
   "id": "5af97fdd",
   "metadata": {},
   "outputs": [
    {
     "data": {
      "text/plain": [
       "['Music is the art of arranging sounds in time through the elements of melody, harmony, rhythm, and timbre.',\n",
       " 'Music is performed with a vast range of instruments and vocal techniques ranging from singing to rapping; there are solely instrumental pieces, solely vocal pieces (such as songs without instrumental accompaniment) and pieces that combine singing and instruments.',\n",
       " 'Common sayings such as \"the harmony of the spheres\" and \"it is music to my ears\" point to the notion that music is often ordered and pleasant to listen to.',\n",
       " 'Indeed, throughout history, some new forms or styles of music have been criticized as \"not being music\", including Beethoven\\'s Grosse Fuge string quartet in 1825, early jazz in the beginning of the 1900s and hardcore punk in the 1980s.']"
      ]
     },
     "execution_count": 51,
     "metadata": {},
     "output_type": "execute_result"
    }
   ],
   "source": [
    "lst1 = []\n",
    "summarizer = LexRankSummarizer()\n",
    "summary = summarizer(parser.document,userNumber)\n",
    "for sentence in summary:\n",
    "    print(sentence)\n"
   ]
  },
  {
   "cell_type": "code",
   "execution_count": 52,
   "id": "b831f4f7",
   "metadata": {},
   "outputs": [
    {
     "data": {
      "text/plain": [
       "['Music is performed with a vast range of instruments and vocal techniques ranging from singing to rapping; there are solely instrumental pieces, solely vocal pieces (such as songs without instrumental accompaniment) and pieces that combine singing and instruments.',\n",
       " 'The word derives from Greek μουσική (mousiké; \"(art) of the Muses\").In its most general form, the activities describing music as an art form or cultural activity include the creation of works of music (songs, tunes, symphonies, and so on), the criticism of music, the study of the history of music, and the aesthetic examination of music.',\n",
       " 'Common sayings such as \"the harmony of the spheres\" and \"it is music to my ears\" point to the notion that music is often ordered and pleasant to listen to.',\n",
       " 'Music ranges from strictly organized compositions—such as Classical music symphonies from the 1700s and 1800s—through to spontaneously played improvisational music such as jazz, and avant-garde styles of chance-based contemporary music from the 20th and 21st centuries.']"
      ]
     },
     "execution_count": 52,
     "metadata": {},
     "output_type": "execute_result"
    }
   ],
   "source": [
    "lst2 = []\n",
    "summarizer = LuhnSummarizer()\n",
    "summary = summarizer(parser.document,userNumber)\n",
    "for sentence in summary:\n",
    "    print(sentence)\n",
    "lst2"
   ]
  },
  {
   "cell_type": "code",
   "execution_count": 53,
   "id": "d11cc944",
   "metadata": {},
   "outputs": [
    {
     "data": {
      "text/plain": [
       "['The word derives from Greek μουσική (mousiké; \"(art) of the Muses\").In its most general form, the activities describing music as an art form or cultural activity include the creation of works of music (songs, tunes, symphonies, and so on), the criticism of music, the study of the history of music, and the aesthetic examination of music.',\n",
       " '\"The creation, performance, significance, and even the definition of music vary according to culture and social context.',\n",
       " 'There are many types of music, including popular music, traditional music, art music, music written for religious ceremonies, and work songs such as chanteys.',\n",
       " 'Music ranges from strictly organized compositions—such as Classical music symphonies from the 1700s and 1800s—through to spontaneously played improvisational music such as jazz, and avant-garde styles of chance-based contemporary music from the 20th and 21st centuries.']"
      ]
     },
     "execution_count": 53,
     "metadata": {},
     "output_type": "execute_result"
    }
   ],
   "source": [
    "lst3 = []\n",
    "summarizer = KLSummarizer()\n",
    "summary = summarizer(parser.document,userNumber)\n",
    "for sentence in summary:\n",
    "    print(sentence)\n",
    "    \n",
    "lst3"
   ]
  },
  {
   "cell_type": "code",
   "execution_count": 54,
   "id": "5f05d8d8",
   "metadata": {},
   "outputs": [
    {
     "name": "stderr",
     "output_type": "stream",
     "text": [
      "No model was supplied, defaulted to sshleifer/distilbart-cnn-12-6 (https://huggingface.co/sshleifer/distilbart-cnn-12-6)\n"
     ]
    },
    {
     "data": {
      "text/plain": [
       "[' Music is the art of arranging sounds in time through the elements of melody, harmony, rhythm, and timbre . Different styles or types of music may emphasize, de-emphasize or omit some of these elements . Music is performed with a vast range of instruments and vocal techniques ranging from singing to rapping . Ancient Greek and Indian philosophers defined music in two parts: melodies, as melodies, and harmonies as tones ordered vertically .']"
      ]
     },
     "execution_count": 54,
     "metadata": {},
     "output_type": "execute_result"
    }
   ],
   "source": [
    "lst4 = []\n",
    "summarizer = pipeline(\"summarization\")\n",
    "summarized = summarizer(wikicontent, min_length=75, max_length=100)\n",
    "print(summarized[0]['summary_text'])\n",
    "lst4"
   ]
  },
  {
   "cell_type": "code",
   "execution_count": 55,
   "id": "da35620b",
   "metadata": {},
   "outputs": [
    {
     "data": {
      "text/plain": [
       "['Music is performed with a vast range of instruments and vocal techniques ranging from singing to rapping; there are solely instrumental pieces, solely vocal pieces (such as songs without instrumental accompaniment) and pieces that combine singing and instruments.',\n",
       " 'Ancient Greek and Indian philosophers defined music in two parts: melodies, as tones ordered horizontally, and harmonies as tones ordered vertically.',\n",
       " 'However, 20th-century composer John Cage thought that any sound can be music, saying, for example, \"There is no noise, only sound.',\n",
       " 'Indeed, throughout history, some new forms or styles of music have been criticized as \"not being music\", including Beethoven\\'s Grosse Fuge string quartet in 1825, early jazz in the beginning of the 1900s and hardcore punk in the 1980s.']"
      ]
     },
     "execution_count": 55,
     "metadata": {},
     "output_type": "execute_result"
    }
   ],
   "source": [
    "lst5 = []\n",
    "summarizer_2 = LsaSummarizer()\n",
    "summary_2 =summarizer_2(parser.document,userNumber)\n",
    "for sentence in summary_2:\n",
    "    print(sentence)\n",
    "lst5"
   ]
  },
  {
   "cell_type": "code",
   "execution_count": 56,
   "id": "94c0e507",
   "metadata": {},
   "outputs": [],
   "source": [
    "model = T5ForConditionalGeneration.from_pretrained(\"t5-base\")\n",
    "tokenizer = T5Tokenizer.from_pretrained(\"t5-base\")\n"
   ]
  },
  {
   "cell_type": "code",
   "execution_count": 57,
   "id": "2d07c0ec",
   "metadata": {},
   "outputs": [],
   "source": [
    "inputs = tokenizer.encode(\"summarize: \" + wikicontent, return_tensors=\"pt\", max_length=512, truncation=True)"
   ]
  },
  {
   "cell_type": "code",
   "execution_count": 58,
   "id": "32b7f913",
   "metadata": {},
   "outputs": [
    {
     "data": {
      "text/plain": [
       "[' music is the art of arranging sounds in time through the elements of melody, harmony, rhythm, and timbre. ancient Greek and Indian philosophers defined music in two parts: melodies, as tones ordered horizontally, and harmonies as tones ordered vertically.']"
      ]
     },
     "execution_count": 58,
     "metadata": {},
     "output_type": "execute_result"
    }
   ],
   "source": [
    "lst6 = []\n",
    "outputs = model.generate(\n",
    "    inputs, \n",
    "    max_length=150, \n",
    "    min_length=40, \n",
    "    length_penalty=2.0, \n",
    "    num_beams=4, \n",
    "    early_stopping=True)\n",
    "print(tokenizer.decode(outputs[0]).replace(\"<pad>\",\"\").replace(\"</s>\",\"\"))\n",
    "lst6"
   ]
  },
  {
   "cell_type": "code",
   "execution_count": 59,
   "id": "f78a5310",
   "metadata": {},
   "outputs": [
    {
     "data": {
      "text/plain": [
       "'Music is the art of arranging sounds in time through the elements of melody, harmony, rhythm, and timbre. It is one of the universal cultural aspects of all human societies. General definitions of music include common elements such as pitch (which governs melody and harmony), rhythm (and its associated concepts tempo, meter, and articulation), dynamics (loudness and softness), and the sonic qualities of timbre and texture (which are sometimes termed the \"color\" of a musical sound). Music is performed with a vast range of instruments and vocal techniques ranging from singing to rapping; there are solely instrumental pieces, solely vocal pieces (such as songs without instrumental accompaniment) and pieces that combine singing and instruments.'"
      ]
     },
     "execution_count": 59,
     "metadata": {},
     "output_type": "execute_result"
    }
   ],
   "source": [
    "body = wikicontent\n",
    "model = SBertSummarizer('paraphrase-MiniLM-L6-v2')\n",
    "result = model(body, num_sentences=userNumber)\n",
    "result"
   ]
  },
  {
   "cell_type": "code",
   "execution_count": null,
   "id": "de90453f",
   "metadata": {},
   "outputs": [],
   "source": []
  },
  {
   "cell_type": "code",
   "execution_count": null,
   "id": "47c47482",
   "metadata": {},
   "outputs": [],
   "source": []
  },
  {
   "cell_type": "code",
   "execution_count": null,
   "id": "15eb892c",
   "metadata": {},
   "outputs": [],
   "source": []
  },
  {
   "cell_type": "code",
   "execution_count": null,
   "id": "3e4c3609",
   "metadata": {},
   "outputs": [],
   "source": [
    "\n"
   ]
  },
  {
   "cell_type": "code",
   "execution_count": null,
   "id": "ba1f54c5",
   "metadata": {},
   "outputs": [],
   "source": []
  },
  {
   "cell_type": "code",
   "execution_count": null,
   "id": "73d522a0",
   "metadata": {},
   "outputs": [],
   "source": []
  }
 ],
 "metadata": {
  "kernelspec": {
   "display_name": "Python 3",
   "language": "python",
   "name": "python3"
  },
  "language_info": {
   "codemirror_mode": {
    "name": "ipython",
    "version": 3
   },
   "file_extension": ".py",
   "mimetype": "text/x-python",
   "name": "python",
   "nbconvert_exporter": "python",
   "pygments_lexer": "ipython3",
   "version": "3.8.8"
  }
 },
 "nbformat": 4,
 "nbformat_minor": 5
}
